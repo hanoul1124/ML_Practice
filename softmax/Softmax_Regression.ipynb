{
 "cells": [
  {
   "cell_type": "code",
   "execution_count": 159,
   "metadata": {},
   "outputs": [],
   "source": [
    "import numpy as np\n",
    "import matplotlib.pyplot as plt\n",
    "from sklearn.datasets import make_classification\n",
    "import seaborn as sns"
   ]
  },
  {
   "cell_type": "code",
   "execution_count": 160,
   "metadata": {},
   "outputs": [
    {
     "data": {
      "text/plain": [
       "dict_keys(['data', 'target', 'frame', 'categories', 'feature_names', 'target_names', 'DESCR', 'details', 'url'])"
      ]
     },
     "execution_count": 160,
     "metadata": {},
     "output_type": "execute_result"
    }
   ],
   "source": [
    "from sklearn.datasets import fetch_openml\n",
    "mnist = fetch_openml('mnist_784', version=1, cache=True)\n",
    "mnist.keys()"
   ]
  },
  {
   "cell_type": "code",
   "execution_count": 161,
   "metadata": {},
   "outputs": [],
   "source": [
    "X, y = mnist[\"data\"], mnist[\"target\"]"
   ]
  },
  {
   "cell_type": "code",
   "execution_count": 162,
   "metadata": {},
   "outputs": [],
   "source": [
    "# 메모리 이슈로 인해 데이터를 축소해 실행한다\n",
    "X, y = X[:20000], y[:20000]"
   ]
  },
  {
   "cell_type": "code",
   "execution_count": 163,
   "metadata": {},
   "outputs": [],
   "source": [
    "y = y.astype(np.uint8).to_numpy()"
   ]
  },
  {
   "cell_type": "code",
   "execution_count": 164,
   "metadata": {},
   "outputs": [],
   "source": [
    "from sklearn.preprocessing import OneHotEncoder\n",
    "enc = OneHotEncoder()"
   ]
  },
  {
   "cell_type": "code",
   "execution_count": 165,
   "metadata": {},
   "outputs": [
    {
     "name": "stdout",
     "output_type": "stream",
     "text": [
      "Original: (20000,)\n",
      "np.newaxis: (20000, 1)\n",
      "np.newaxis: (1, 20000)\n"
     ]
    }
   ],
   "source": [
    "print(f'Original: {y.shape}') # 1차원 label array\n",
    "print(f'np.newaxis: {y[:, np.newaxis].shape}') # 2차원 array로 만들어준다\n",
    "print(f'np.newaxis: {y[np.newaxis, :].shape}') # Transpose하여 행벡터로 사용"
   ]
  },
  {
   "cell_type": "code",
   "execution_count": 166,
   "metadata": {},
   "outputs": [
    {
     "data": {
      "text/plain": [
       "OneHotEncoder()"
      ]
     },
     "execution_count": 166,
     "metadata": {},
     "output_type": "execute_result"
    }
   ],
   "source": [
    "# np.newaxis: 이미 존재하는 어떤 numpy array의 차원을 늘려주는 역할\n",
    "enc.fit(y[:,np.newaxis])"
   ]
  },
  {
   "cell_type": "code",
   "execution_count": 167,
   "metadata": {},
   "outputs": [],
   "source": [
    "Y = enc.transform(y[:,np.newaxis]).toarray()"
   ]
  },
  {
   "cell_type": "code",
   "execution_count": 168,
   "metadata": {},
   "outputs": [
    {
     "name": "stdout",
     "output_type": "stream",
     "text": [
      "(20000, 10)\n"
     ]
    },
    {
     "data": {
      "text/plain": [
       "array([[0., 0., 0., ..., 0., 0., 0.],\n",
       "       [1., 0., 0., ..., 0., 0., 0.],\n",
       "       [0., 0., 0., ..., 0., 0., 0.],\n",
       "       ...,\n",
       "       [0., 1., 0., ..., 0., 0., 0.],\n",
       "       [0., 0., 0., ..., 0., 0., 0.],\n",
       "       [0., 0., 1., ..., 0., 0., 0.]])"
      ]
     },
     "execution_count": 168,
     "metadata": {},
     "output_type": "execute_result"
    }
   ],
   "source": [
    "print(Y.shape)\n",
    "Y"
   ]
  },
  {
   "cell_type": "code",
   "execution_count": 169,
   "metadata": {},
   "outputs": [],
   "source": [
    "X_train, X_val, X_test, y_train, y_val, y_test = X[:16000], X[16000:18000], X[18000:], Y[:16000], Y[16000:18000], Y[18000:]"
   ]
  },
  {
   "cell_type": "code",
   "execution_count": 170,
   "metadata": {},
   "outputs": [],
   "source": [
    "X_train = X_train / 255\n",
    "X_val = X_val / 255\n",
    "X_test = X_test / 255"
   ]
  },
  {
   "cell_type": "code",
   "execution_count": 171,
   "metadata": {},
   "outputs": [],
   "source": [
    "def sigmoid(x):\n",
    "    return 1 / (1 + np.exp(-x))"
   ]
  },
  {
   "cell_type": "code",
   "execution_count": 172,
   "metadata": {},
   "outputs": [],
   "source": [
    "def softmax(X, W):\n",
    "    K = np.size(W, 1)\n",
    "    A = np.exp(X @ W)\n",
    "    # np.diag -> array 형태여야하므로, np.reshape(***, -1)을 통해 1차원 array로 변형시켜준 것\n",
    "    B = np.diag(1 / (np.reshape(A @ np.ones((K,1)), -1))) # 역행렬을 구하는 것을 조금 더 간단하게 만들기 위한 식\n",
    "    Y = B @ A\n",
    "    return Y"
   ]
  },
  {
   "cell_type": "code",
   "execution_count": 173,
   "metadata": {},
   "outputs": [],
   "source": [
    "# Multiclass Logistic Regression\n",
    "def compute_cost(X, T, W):\n",
    "    epsilon = 1e-5\n",
    "    N = len(T)\n",
    "    K = np.size(T, 1)\n",
    "    # np.multiply: element-wise multiplication\n",
    "    # Negative log-likelihood식을 행렬곱 형태로 정리한 형태\n",
    "    cost = - (1/N) * np.ones((1,N)) @ (np.multiply(np.log(softmax(X, W) + epsilon), T)) @ np.ones((K,1)) \n",
    "    return cost"
   ]
  },
  {
   "cell_type": "markdown",
   "metadata": {},
   "source": [
    "## Regularization\n",
    "머신러닝 모델의 과적합(Overfitting)을 막는 방법은 다음과 같다.\n",
    "- Batch Normalization(배치정규화)\n",
    "- Weight Regularization(정규화)\n",
    "- Dropout(학습 시 랜덤으로 뉴런의 일부만을 사용)\n",
    "- Early Stopping(오버피팅이 되기 전에 학습을 정지)\n",
    "\n",
    "이 중 Weight Regularization은 L1, L2 Regularization을 사용한다.\n",
    "\n",
    "### L1, L2 Regularization\n",
    "학습을 진행할 때, 학습 데이터의 특성에 따라서 특정 weight의 값이 지나치게 커질 수 있다. 이 때 overfitting이 쉽게 발생하게 된다. 이를 방지하기 위해서 weight의 값을 작게 유지해주기 위한 방법으로 Loss function에 일정한 값을 추가해준다. 이를 통해서 Loss와 Model Complexity를 최소화시키는 방식으로 식이 변형된다.\n",
    "\n",
    "$ minimize(Loss(Data|Model) + Complexity(Model)) $\n",
    "\n",
    "여기서 모델의 복잡도(Complexity)를 계산하기 위해서 weight값의 최소값을 구하는 방식을 사용하는데, L1의 경우 weight의 절대값의 최소값을, L2의 경우는 weight의 제곱합에 대한 최소값을 구한다.\n",
    "\n",
    "여기에 각 Regularization값의 강도를 조절하기 위해 람다 값을 곱해준다. 람다값이 0에 가까울수록 정규화가 적게 이루어져 overfitting이 쉽게 발생하게 된다.\n",
    "$ minimize(Loss(Data|Model) + \\lambda  Complexity(Model)) $\n",
    "\n",
    "이 때, 선형회귀모델에서 L1규제를 주는 것이 Lasso Regression, L2규제를 주는 것을 Ridge Regression이라고 한다. 이 둘을 동싱 사용하는 방식도 사용 가능하다.\n",
    "\n",
    "L1규제의 경우, 가중치 업데이트 시 작은 가중치들은 0에 수렴하게 된다. 따라서 몇 개의 중요한 weight만이 남게 된다. 따라서 소수의 의미 있는 값을 도출(feature selection 효과)해내고 싶은 sparse한 모델의 경우에 적합하게 사용 가능하다. 그러나 L1규제의 경우 미분이 불가능한 영역이 존재하기 때문에, Gradient-base learning에서는 주의하여 사용해야 한다.\n",
    "\n",
    "L2의 경우는 불필요한 feature의 weight를 0에 가깝게 만들 뿐 0으로 만들지는 않는다. 이런 특성으로 인해 L1에 비해서 상대적으로 선형모델의 일반화 능력이 더 뛰어나다고 볼 수 있다."
   ]
  },
  {
   "cell_type": "code",
   "execution_count": 174,
   "metadata": {},
   "outputs": [],
   "source": [
    "# Multiclass Logistic Regression with L2 Regularization\n",
    "def L2_compute_cost(X, T, W, lambda_value):\n",
    "    epsilon = 1e-5\n",
    "    N = len(T)\n",
    "    K = np.size(T, 1)\n",
    "    # L2 Regularization을 추가\n",
    "    ridge_reg_term = (1 / N) * (lambda_value / 2) * np.sum(np.square(W))\n",
    "    cost = - (1/N) * np.ones((1,N)) @ (np.multiply(np.log(softmax(X, W) + epsilon), T)) @ np.ones((K,1)) + ridge_reg_term\n",
    "    return cost"
   ]
  },
  {
   "cell_type": "code",
   "execution_count": 175,
   "metadata": {},
   "outputs": [],
   "source": [
    "def predict(X, W):\n",
    "    return np.argmax((X @ W), axis=1)"
   ]
  },
  {
   "cell_type": "code",
   "execution_count": 176,
   "metadata": {},
   "outputs": [],
   "source": [
    "# Mini batch\n",
    "def batch_gd(X, T, W, learning_rate, iterations, batch_size):\n",
    "    N = len(T)\n",
    "    cost_history = np.zeros((iterations,1))\n",
    "    shuffled_indices = np.random.permutation(N)\n",
    "    X_shuffled = X[shuffled_indices]\n",
    "    T_shuffled = T[shuffled_indices]\n",
    "\n",
    "    for i in range(iterations):\n",
    "        j = i % N\n",
    "        X_batch = X_shuffled[j:j+batch_size]\n",
    "        T_batch = T_shuffled[j:j+batch_size]\n",
    "        # batch가 epoch 경계를 넘어가는 경우, 앞 부분으로 채워줌\n",
    "        if X_batch.shape[0] < batch_size:\n",
    "            X_batch = np.vstack((X_batch, X_shuffled[:(batch_size - X_batch.shape[0])]))\n",
    "            T_batch = np.vstack((T_batch, T_shuffled[:(batch_size - T_batch.shape[0])]))\n",
    "        W = W - (learning_rate/batch_size) * (X_batch.T @ (softmax(X_batch, W) - T_batch))\n",
    "        cost_history[i] = compute_cost(X_batch, T_batch, W)\n",
    "        if i % 1000 == 0:\n",
    "            print(cost_history[i][0])\n",
    "\n",
    "    return (cost_history, W)"
   ]
  },
  {
   "cell_type": "code",
   "execution_count": 184,
   "metadata": {},
   "outputs": [],
   "source": [
    "# Batch gradient descent with L2 Regularization\n",
    "def L2_batch_gd(X, T, W, learning_rate, iterations, batch_size, lambda_value):\n",
    "    N = len(T)\n",
    "    cost_history = np.zeros((iterations,1))\n",
    "    shuffled_indices = np.random.permutation(N)\n",
    "    X_shuffled = X[shuffled_indices]\n",
    "    T_shuffled = T[shuffled_indices]\n",
    "\n",
    "    for i in range(iterations):\n",
    "        j = i % N\n",
    "        X_batch = X_shuffled[j:j+batch_size]\n",
    "        T_batch = T_shuffled[j:j+batch_size]\n",
    "        \n",
    "        if X_batch.shape[0] < batch_size:\n",
    "            X_batch = np.vstack((X_batch, X_shuffled[:(batch_size - X_batch.shape[0])]))\n",
    "            T_batch = np.vstack((T_batch, T_shuffled[:(batch_size - T_batch.shape[0])]))\n",
    "        \n",
    "        error = softmax(X_batch, W) - T_batch\n",
    "        # L2 Regularization이 Cost function에 추가되었으므로, Gradient 또한 L2 Reg term의 미분 값이 포함되어야 한다\n",
    "        gradient = ((1 / batch_size) * (X_batch.T @ error)) + (lambda_value * W)\n",
    "        W = W - (learning_rate * gradient)\n",
    "        cost_history[i] = L2_compute_cost(X_batch, T_batch, W, lambda_value)\n",
    "#         if i % 1000 == 0:\n",
    "#             print(cost_history[i][0])\n",
    "\n",
    "    return (cost_history, W)"
   ]
  },
  {
   "cell_type": "code",
   "execution_count": 178,
   "metadata": {},
   "outputs": [
    {
     "name": "stdout",
     "output_type": "stream",
     "text": [
      "Initial Cost is: 2.3024850979937064 \n",
      "\n",
      "2.2781058397920453\n",
      "0.6440957439045665\n",
      "0.4950422274292434\n",
      "0.3144196482201307\n",
      "0.5700995473398927\n",
      "0.313889265100568\n",
      "0.2790729748229268\n",
      "0.31092182567930615\n",
      "0.3146507381362376\n",
      "0.25294554648986595\n",
      "0.3068798570554068\n",
      "0.33446675532219716\n",
      "0.26829306200060504\n",
      "0.2943049730367556\n",
      "0.23267393299251854\n",
      "0.19377027437887567\n",
      "0.3947743456983794\n",
      "0.32701703116532965\n",
      "0.31710260776970917\n",
      "0.18037625034621996\n",
      "0.49203315952189797\n",
      "0.19477569459452868\n",
      "0.22433469558129784\n",
      "0.2555142504706855\n",
      "0.2531679029670873\n",
      "0.18610515363288616\n",
      "0.23896183341331595\n",
      "0.3169286891552077\n",
      "0.22783713749881893\n",
      "0.24837803955804372\n",
      "0.2053362314969377\n",
      "0.16047932358869932\n",
      "0.3479142492643788\n",
      "0.2918579738455747\n",
      "0.2660212162094761\n",
      "0.15732797071432353\n",
      "0.4823995515629624\n",
      "0.164992785725649\n",
      "0.21452123058385264\n",
      "0.2408870109318988\n"
     ]
    }
   ],
   "source": [
    "X = np.hstack((np.ones((np.size(X_train, 0),1)),X_train))\n",
    "T = y_train\n",
    "\n",
    "K = np.size(T, 1)\n",
    "M = np.size(X, 1)\n",
    "W = np.zeros((M,K))\n",
    "\n",
    "iterations = 40000\n",
    "learning_rate = 0.01\n",
    "\n",
    "initial_cost = compute_cost(X, T, W)\n",
    "\n",
    "print(\"Initial Cost is: {} \\n\".format(initial_cost[0][0]))\n",
    "\n",
    "(cost_history, W_optimal) = batch_gd(X, T, W, learning_rate, iterations, 64)"
   ]
  },
  {
   "cell_type": "code",
   "execution_count": 179,
   "metadata": {},
   "outputs": [
    {
     "name": "stdout",
     "output_type": "stream",
     "text": [
      "Initial Cost is: 2.3024850979937064 \n",
      "\n",
      "2.279969397003856\n",
      "0.5102137134772081\n",
      "0.3625999265336366\n",
      "0.40698701855948377\n",
      "0.32044333366664746\n",
      "0.2756165209644355\n",
      "0.3848762436818735\n",
      "0.36208797616485366\n",
      "0.3430986652013604\n",
      "0.21848048906660586\n",
      "0.277361972482939\n",
      "0.19522204073878255\n",
      "0.19741469261499575\n",
      "0.22395556166071703\n",
      "0.48259391058829987\n",
      "0.43676029642502473\n",
      "0.3921078345103752\n",
      "0.18599769397910476\n",
      "0.1734229667923922\n",
      "0.27258622412542666\n",
      "0.24349069032197262\n",
      "0.19276928627733347\n",
      "0.3448951253797428\n",
      "0.29501675626003926\n",
      "0.26780346440167613\n",
      "0.17606874561319066\n",
      "0.23229832706847275\n",
      "0.15204424313613246\n",
      "0.17392881645533784\n",
      "0.19135855558644083\n",
      "0.4490819971411461\n",
      "0.39991445470780274\n",
      "0.3654727353768001\n",
      "0.1683911995540845\n",
      "0.155411795241743\n",
      "0.25410652360471453\n",
      "0.21920935766330935\n",
      "0.17933523646201335\n",
      "0.3368626133614661\n",
      "0.2717386791313132\n",
      "0.24454171832841765\n",
      "0.16464042576411064\n",
      "0.21613847407538397\n",
      "0.1395473243920405\n",
      "0.16594843223759295\n",
      "0.18306085966938482\n",
      "0.43499369180910463\n",
      "0.3851983705017569\n",
      "0.35271865294586496\n",
      "0.16133137274382556\n"
     ]
    }
   ],
   "source": [
    "# Gradient Descent with L2 Regularization\n",
    "X = np.hstack((np.ones((np.size(X_train, 0),1)),X_train))\n",
    "T = y_train\n",
    "\n",
    "K = np.size(T, 1)\n",
    "M = np.size(X, 1)\n",
    "W = np.zeros((M,K))\n",
    "\n",
    "iterations = 40000\n",
    "learning_rate = 0.01\n",
    "lambda_value = 0.001\n",
    "\n",
    "initial_cost = L2_compute_cost(X, T, W, lambda_value)\n",
    "\n",
    "print(\"Initial Cost is: {} \\n\".format(initial_cost[0][0]))\n",
    "\n",
    "(cost_history_L2, W_optimal_L2) = L2_batch_gd(X, T, W, learning_rate, iterations, 64, lambda_value)"
   ]
  },
  {
   "cell_type": "code",
   "execution_count": 182,
   "metadata": {},
   "outputs": [],
   "source": [
    "# Gradient Descent with L2 Regularization\n",
    "def get_optimal_weight(X_train, y_train, lambda_value):\n",
    "    X = np.hstack((np.ones((np.size(X_train, 0),1)),X_train))\n",
    "    T = y_train\n",
    "\n",
    "    K = np.size(T, 1)\n",
    "    M = np.size(X, 1)\n",
    "    W = np.zeros((M,K))\n",
    "\n",
    "    iterations = 40000\n",
    "    learning_rate = 0.01\n",
    "\n",
    "#     initial_cost = L2_compute_cost(X, T, W, lambda_value)\n",
    "#     print(\"Initial Cost is: {} \\n\".format(initial_cost[0][0]))\n",
    "\n",
    "    (cost_history_L2, W_optimal_L2) = L2_batch_gd(X, T, W, learning_rate, iterations, 64, lambda_value)\n",
    "    return W_optimal_L2"
   ]
  },
  {
   "cell_type": "code",
   "execution_count": 180,
   "metadata": {},
   "outputs": [
    {
     "name": "stdout",
     "output_type": "stream",
     "text": [
      "0.918\n"
     ]
    }
   ],
   "source": [
    "## Accuracy\n",
    "X_ = np.hstack((np.ones((np.size(X_test, 0),1)),X_test))\n",
    "T_ = y_test\n",
    "y_pred = predict(X_, W_optimal)\n",
    "score = float(sum(y_pred == np.argmax(T_, axis=1)))/ float(len(y_test))\n",
    "\n",
    "print(score)"
   ]
  },
  {
   "cell_type": "code",
   "execution_count": 181,
   "metadata": {},
   "outputs": [
    {
     "name": "stdout",
     "output_type": "stream",
     "text": [
      "0.926\n"
     ]
    }
   ],
   "source": [
    "## L2 Accuracy\n",
    "X_ = np.hstack((np.ones((np.size(X_test, 0),1)),X_test))\n",
    "T_ = y_test\n",
    "y_pred = predict(X_, W_optimal_L2)\n",
    "score = float(sum(y_pred == np.argmax(T_, axis=1)))/ float(len(y_test))\n",
    "\n",
    "print(score)"
   ]
  },
  {
   "cell_type": "code",
   "execution_count": 185,
   "metadata": {},
   "outputs": [
    {
     "name": "stdout",
     "output_type": "stream",
     "text": [
      "0.892\n",
      "0.8285\n",
      "0.8765\n",
      "0.8965\n",
      "0.898\n"
     ]
    }
   ],
   "source": [
    "## get optimal L2 lambda value\n",
    "X_ = np.hstack((np.ones((np.size(X_val, 0),1)),X_val))\n",
    "T_ = y_val\n",
    "lambda_values = [0, 0.1, 0.01, 0.001, 0.0001]\n",
    "scores = []\n",
    "\n",
    "for l_value in lambda_values:\n",
    "    W_ = get_optimal_weight(X_train, y_train, l_value)\n",
    "    y_pred = predict(X_, W_)\n",
    "    score = float(sum(y_pred == np.argmax(T_, axis=1)))/ float(len(y_test))\n",
    "    print(score)\n",
    "    scores.append(score)"
   ]
  },
  {
   "cell_type": "code",
   "execution_count": 186,
   "metadata": {},
   "outputs": [
    {
     "data": {
      "image/png": "[encoded data removed]",
      "text/plain": [
       "<Figure size 432x288 with 1 Axes>"
      ]
     },
     "metadata": {
      "needs_background": "light"
     },
     "output_type": "display_data"
    }
   ],
   "source": [
    "import matplotlib.pyplot as plt\n",
    "\n",
    "plt.plot(scores)\n",
    "plt.show()"
   ]
  }
 ],
 "metadata": {
  "kernelspec": {
   "display_name": "Python 3",
   "language": "python",
   "name": "python3"
  },
  "language_info": {
   "codemirror_mode": {
    "name": "ipython",
    "version": 3
   },
   "file_extension": ".py",
   "mimetype": "text/x-python",
   "name": "python",
   "nbconvert_exporter": "python",
   "pygments_lexer": "ipython3",
   "version": "3.8.2"
  }
 },
 "nbformat": 4,
 "nbformat_minor": 4
}
